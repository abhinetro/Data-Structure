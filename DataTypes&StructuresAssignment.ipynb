{
  "nbformat": 4,
  "nbformat_minor": 0,
  "metadata": {
    "colab": {
      "provenance": []
    },
    "kernelspec": {
      "name": "python3",
      "display_name": "Python 3"
    },
    "language_info": {
      "name": "python"
    }
  },
  "cells": [
    {
      "cell_type": "markdown",
      "source": [
        "# 1. What are data structures, and why are they important?\n",
        "\"\"\"\n",
        "Data structures are specialized formats for organizing, processing, and storing data in a computer.\n",
        "They are important because they help manage and store data efficiently, allowing for optimized access,\n",
        "modification, and processing. Examples include lists, tuples, sets, and dictionaries in Python.\n",
        "\"\"\"\n",
        "\n",
        "# 2. Explain the difference between mutable and immutable data types with examples?\n",
        "\"\"\"\n",
        "Mutable data types can be changed after creation, while immutable types cannot.\n",
        "Examples:\n",
        "- Mutable: list, dict, set\n",
        "- Immutable: int, float, str, tuple\n",
        "\n",
        "Mutable example:\n",
        "  my_list = [1, 2, 3]\n",
        "  my_list[0] = 99  # Allowed\n",
        "\n",
        "Immutable example:\n",
        "  my_tuple = (1, 2, 3)\n",
        "  my_tuple[0] = 99  # Raises TypeError\n",
        "\"\"\"\n",
        "\n",
        "# 3. What are the main differences between lists and tuples in Python?\n",
        "\"\"\"\n",
        "- Lists are mutable; Tuples are immutable.\n",
        "- Lists use square brackets []; Tuples use parentheses ().\n",
        "- Lists are slower and more memory-consuming; Tuples are faster and use less memory.\n",
        "- Tuples can be used as dictionary keys; Lists cannot.\n",
        "- Use tuples for fixed collections of items, and lists for dynamic data.\n",
        "\"\"\"\n",
        "\n",
        "# 4. Describe how dictionaries store data.\n",
        "\"\"\"\n",
        "Dictionaries in Python store data as key-value pairs using hash tables.\n",
        "The key is passed through a hash function, which computes an index in an internal array,\n",
        "where the value is stored. This allows for very fast lookups, insertions, and deletions.\n",
        "\"\"\"\n",
        "\n",
        "# 5. Why might you use a set instead of a list in Python?\n",
        "\"\"\"\n",
        "Sets are unordered collections of unique elements.\n",
        "- Use a set when you want to eliminate duplicates.\n",
        "- Set membership tests (e.g., `x in my_set`) are faster than lists.\n",
        "- They are ideal for mathematical operations like union, intersection, and difference.\n",
        "\"\"\"\n",
        "\n",
        "# 6. What is a string in Python, and how is it different from a list?\n",
        "\"\"\"\n",
        "A string is an immutable sequence of Unicode characters.\n",
        "A list is a mutable sequence that can store elements of any type.\n",
        "- Strings are used to represent text.\n",
        "- Lists can hold any type of data (integers, strings, etc.).\n",
        "- Strings cannot be changed after creation; lists can be modified.\n",
        "\"\"\"\n",
        "\n",
        "# 7. How do tuples ensure data integrity in Python?\n",
        "\"\"\"\n",
        "Tuples are immutable, which means once they are created, their contents cannot be changed.\n",
        "This immutability ensures that data remains consistent and prevents accidental modifications,\n",
        "which is particularly useful when passing data between functions or using it as keys in dictionaries.\n",
        "\"\"\"\n",
        "\n",
        "# 8. What is a hash table, and how does it relate to dictionaries in Python?\n",
        "\"\"\"\n",
        "A hash table is a data structure that maps keys to values using a hash function.\n",
        "In Python, dictionaries are implemented as hash tables. The key is hashed to produce an index,\n",
        "where the corresponding value is stored. This makes access to dictionary elements very efficient.\n",
        "\"\"\"\n",
        "\n",
        "# 9. Can lists contain different data types in Python?\n",
        "\"\"\"\n",
        "Yes, lists in Python can contain elements of different data types.\n",
        "Example:\n",
        "  my_list = [1, 'hello', 3.14, True, [2, 3]]\n",
        "Python lists are dynamic and heterogeneous.\n",
        "\"\"\"\n",
        "\n",
        "# 10. Explain why strings are immutable in Python?\n",
        "\"\"\"\n",
        "Strings are immutable to ensure that once a string is created, it cannot be altered.\n",
        "This immutability allows strings to be hashable and used as dictionary keys.\n",
        "It also enhances performance and security, especially in concurrent programs.\n",
        "\"\"\"\n",
        "\n",
        "# 11. What advantages do dictionaries offer over lists for certain tasks?\n",
        "\"\"\"\n",
        "Dictionaries provide faster lookups based on keys.\n",
        "- Use dictionaries when you need to associate keys with values.\n",
        "- They are ideal for tasks involving quick data retrieval and updates using unique identifiers.\n",
        "\"\"\"\n",
        "\n",
        "# 12. Describe a scenario where using a tuple would be preferable over a list.\n",
        "\"\"\"\n",
        "When you want to store a fixed collection of data that should not be changed,\n",
        "such as coordinates (x, y), RGB values, or a database record.\n",
        "Tuples are also preferred as keys in dictionaries due to their immutability.\n",
        "\"\"\"\n",
        "\n",
        "# 13. How do sets handle duplicate values in Python?\n",
        "\"\"\"\n",
        "Sets automatically remove duplicates.\n",
        "Example:\n",
        "  my_set = {1, 2, 2, 3}\n",
        "  print(my_set)  # Output: {1, 2, 3}\n",
        "Each element in a set is unique.\n",
        "\"\"\"\n",
        "\n",
        "# 14. How does the “in” keyword work differently for lists and dictionaries?\n",
        "\"\"\"\n",
        "- For lists: `x in my_list` checks if `x` is an element in the list.\n",
        "- For dictionaries: `x in my_dict` checks if `x` is a key in the dictionary.\n",
        "\"\"\"\n",
        "\n",
        "# 15. Can you modify the elements of a tuple? Explain why or why not.\n",
        "\"\"\"\n",
        "No, tuples are immutable. Once created, their elements cannot be changed.\n",
        "Attempting to modify a tuple will result in a TypeError.\n",
        "\"\"\"\n",
        "\n",
        "# 16. What is a nested dictionary, and give an example of its use case?\n",
        "\"\"\"\n",
        "A nested dictionary is a dictionary where the values are also dictionaries.\n",
        "Example use case: storing student records with nested subject scores.\n",
        "  student = {\n",
        "    'name': 'John',\n",
        "    'grades': {\n",
        "        'math': 90,\n",
        "        'science': 85\n",
        "    }\n",
        "  }\n",
        "\"\"\"\n",
        "\n",
        "# 17. Describe the time complexity of accessing elements in a dictionary.\n",
        "\"\"\"\n",
        "Accessing elements in a dictionary is on average O(1) time complexity.\n",
        "This is due to the hash table implementation.\n",
        "\"\"\"\n",
        "\n",
        "# 18. In what situations are lists preferred over dictionaries?\n",
        "\"\"\"\n",
        "Use lists when:\n",
        "- You need ordered data.\n",
        "- You do not require key-value associations.\n",
        "- Your data is accessed by position/index rather than by key.\n",
        "\"\"\"\n",
        "\n",
        "# 19. Why are dictionaries considered unordered, and how does that affect data retrieval?\n",
        "\"\"\"\n",
        "Before Python 3.7, dictionaries were unordered collections.\n",
        "From Python 3.7+, they maintain insertion order, but logically, they are still designed for fast key access.\n",
        "Retrieval is based on key, not position.\n",
        "\"\"\"\n",
        "\n",
        "# 20. Explain the difference between a list and a dictionary in terms of data retrieval.\n",
        "\"\"\"\n",
        "- Lists use index-based access: list[0], list[1], etc.\n",
        "- Dictionaries use key-based access: dict['key']\n",
        "Lists are better for ordered sequences, while dictionaries are better for named data access.\n",
        "\"\"\""
      ],
      "metadata": {
        "id": "MRBwL0cN_TcZ"
      }
    },
    {
      "cell_type": "code",
      "source": [
        "# 1. Write a code to create a string with your name and print it.\n",
        "name = \"Abhishek Kumar Soni\"\n",
        "print(name)\n"
      ],
      "metadata": {
        "id": "RXw8aNcsn8XU"
      },
      "execution_count": null,
      "outputs": []
    },
    {
      "cell_type": "code",
      "source": [
        "# 2. Write a code to find the length of the string \"Hello World\".\n",
        "text = \"Hello World\"\n",
        "print(len(text))"
      ],
      "metadata": {
        "id": "Am7RRrMfn-sI"
      },
      "execution_count": null,
      "outputs": []
    },
    {
      "cell_type": "code",
      "source": [
        "# 3. Write a code to slice the first 3 characters from the string \"Python Programming\".\n",
        "text = \"Python Programming\"\n",
        "print(text[:3])\n"
      ],
      "metadata": {
        "id": "pjDFdP8ZoT-0"
      },
      "execution_count": null,
      "outputs": []
    },
    {
      "cell_type": "code",
      "source": [
        "# 4. Write a code to convert the string \"hello\" to uppercase.\n",
        "word = \"hello\"\n",
        "print(word.upper())"
      ],
      "metadata": {
        "id": "196OW70poXeq"
      },
      "execution_count": null,
      "outputs": []
    },
    {
      "cell_type": "code",
      "source": [
        "# 5. Write a code to replace the word \"apple\" with \"orange\" in the string \"I like apple\".\n",
        "sentence = \"I like apple\"\n",
        "print(sentence.replace(\"apple\", \"orange\"))"
      ],
      "metadata": {
        "id": "gP9MR8nOoiEq"
      },
      "execution_count": null,
      "outputs": []
    },
    {
      "cell_type": "code",
      "source": [
        "# 6. Write a code to create a list with numbers 1 to 5 and print it.\n",
        "numbers = [1, 2, 3, 4, 5]\n",
        "print(numbers)"
      ],
      "metadata": {
        "id": "yBTe7V5vomXX"
      },
      "execution_count": null,
      "outputs": []
    },
    {
      "cell_type": "code",
      "source": [
        "# 7. Write a code to append the number 10 to the list [1, 2, 3, 4].\n",
        "my_list = [1, 2, 3, 4]\n",
        "my_list.append(10)\n",
        "print(my_list)"
      ],
      "metadata": {
        "id": "wGeojIjFopni"
      },
      "execution_count": null,
      "outputs": []
    },
    {
      "cell_type": "code",
      "source": [
        "# 8. Write a code to remove the number 3 from the list [1, 2, 3, 4, 5].\n",
        "numbers = [1, 2, 3, 4, 5]\n",
        "numbers.remove(3)\n",
        "print(numbers)"
      ],
      "metadata": {
        "id": "frvjUi1cosa0"
      },
      "execution_count": null,
      "outputs": []
    },
    {
      "cell_type": "code",
      "source": [
        "# 9. Write a code to access the second element in the list ['a', 'b', 'c', 'd'].\n",
        "letters = ['a', 'b', 'c', 'd']\n",
        "print(letters[1])"
      ],
      "metadata": {
        "id": "z_BguoVxov4j"
      },
      "execution_count": null,
      "outputs": []
    },
    {
      "cell_type": "code",
      "source": [
        "# 10. Write a code to reverse the list [10, 20, 30, 40, 50].\n",
        "numbers = [10, 20, 30, 40, 50]\n",
        "numbers.reverse()\n",
        "print(numbers)\n"
      ],
      "metadata": {
        "id": "RD09Lm_royVP"
      },
      "execution_count": null,
      "outputs": []
    },
    {
      "cell_type": "code",
      "source": [
        "# 11. Write a code to create a tuple with the elements 100, 200, 300 and print it.\n",
        "my_tuple = (100, 200, 300)\n",
        "print(my_tuple)"
      ],
      "metadata": {
        "id": "X7STlfOPpNfE"
      },
      "execution_count": null,
      "outputs": []
    },
    {
      "cell_type": "code",
      "source": [
        "# 12. Write a code to access the second-to-last element of the tuple ('red', 'green', 'blue', 'yellow').\n",
        "colors = ('red', 'green', 'blue', 'yellow')\n",
        "print(colors[-2])\n"
      ],
      "metadata": {
        "id": "7s5_cPKnpQ9I"
      },
      "execution_count": null,
      "outputs": []
    },
    {
      "cell_type": "code",
      "source": [
        "# 13. Write a code to find the minimum number in the tuple (10, 20, 5, 15).\n",
        "numbers = (10, 20, 5, 15)\n",
        "print(min(numbers))"
      ],
      "metadata": {
        "id": "rAHEUO3WpcUX"
      },
      "execution_count": null,
      "outputs": []
    },
    {
      "cell_type": "code",
      "source": [
        "# 14. Write a code to find the index of the element \"cat\" in the tuple ('dog', 'cat', 'rabbit').\n",
        "animals = ('dog', 'cat', 'rabbit')\n",
        "print(animals.index(\"cat\"))\n"
      ],
      "metadata": {
        "id": "KnNyyyzepgeO"
      },
      "execution_count": null,
      "outputs": []
    },
    {
      "cell_type": "code",
      "source": [
        "# 15. Write a code to create a tuple containing three different fruits and check if \"kiwi\" is in it.\n",
        "fruits = (\"apple\", \"banana\", \"kiwi\")\n",
        "print(\"kiwi\" in fruits)"
      ],
      "metadata": {
        "id": "PCA-aZqApjOt"
      },
      "execution_count": null,
      "outputs": []
    },
    {
      "cell_type": "code",
      "source": [
        "# 16. Write a code to create a set with the elements 'a', 'b', 'c' and print it.\n",
        "my_set = {'a', 'b', 'c'}\n",
        "print(my_set)"
      ],
      "metadata": {
        "id": "kAXM459dpmOx"
      },
      "execution_count": null,
      "outputs": []
    },
    {
      "cell_type": "code",
      "source": [
        "# 17. Write a code to clear all elements from the set {1, 2, 3, 4, 5}.\n",
        "my_set = {1, 2, 3, 4, 5}\n",
        "my_set.clear()\n",
        "print(my_set)"
      ],
      "metadata": {
        "id": "bJihx1cxppJw"
      },
      "execution_count": null,
      "outputs": []
    },
    {
      "cell_type": "code",
      "source": [
        "# 18. Write a code to remove the element 2 from the set {1, 2, 3, 4}.\n",
        "my_set = {1, 2, 3, 4}\n",
        "my_set.remove(2)\n",
        "print(my_set)"
      ],
      "metadata": {
        "id": "Z2M7toGSptIl"
      },
      "execution_count": null,
      "outputs": []
    },
    {
      "cell_type": "code",
      "source": [
        "# 19. Write a code to find the union of two sets {1, 2, 3} and {3, 4, 5}.\n",
        "set1 = {1, 2, 3}\n",
        "set2 = {3, 4, 5}\n",
        "union_set = set1.union(set2)\n",
        "print(union_set)\n"
      ],
      "metadata": {
        "id": "ssh794XrqJrw"
      },
      "execution_count": null,
      "outputs": []
    },
    {
      "cell_type": "code",
      "source": [
        "# 20. Write a code to find the intersection of two sets {1, 2, 3} and {2, 3, 4}.\n",
        "set1 = {1, 2, 3}\n",
        "set2 = {2, 3, 4}\n",
        "intersection_set = set1.intersection(set2)\n",
        "print(intersection_set)\n"
      ],
      "metadata": {
        "id": "j0BX9qo2qNml"
      },
      "execution_count": null,
      "outputs": []
    },
    {
      "cell_type": "code",
      "source": [
        "# 21. Write a code to create a dictionary with the keys \"name\", \"age\", and \"city\", and print it.\n",
        "person = {\"name\": \"John\", \"age\": 25, \"city\": \"New York\"}\n",
        "print(person)\n"
      ],
      "metadata": {
        "id": "QS1ZluyfrOGn"
      },
      "execution_count": null,
      "outputs": []
    },
    {
      "cell_type": "code",
      "source": [
        "# 22. Write a code to add a new key-value pair \"country\": \"USA\" to the dictionary {'name': 'John', 'age': 25}.\n",
        "person = {'name': 'John', 'age': 25}\n",
        "person[\"country\"] = \"USA\"\n",
        "print(person)\n"
      ],
      "metadata": {
        "id": "Tg-reAG6rQaN"
      },
      "execution_count": null,
      "outputs": []
    },
    {
      "cell_type": "code",
      "source": [
        "# 23. Write a code to access the value associated with the key \"name\" in the dictionary {'name': 'Alice', 'age': 30}.\n",
        "person = {'name': 'Alice', 'age': 30}\n",
        "print(person[\"name\"])\n"
      ],
      "metadata": {
        "id": "HxnhqY9urSPx"
      },
      "execution_count": null,
      "outputs": []
    },
    {
      "cell_type": "code",
      "source": [
        "# 24. Write a code to remove the key \"age\" from the dictionary {'name': 'Bob', 'age': 22, 'city': 'New York'}.\n",
        "person = {'name': 'Bob', 'age': 22, 'city': 'New York'}\n",
        "person.pop(\"age\")\n",
        "print(person)\n"
      ],
      "metadata": {
        "id": "otAmrM8HrUnC"
      },
      "execution_count": null,
      "outputs": []
    },
    {
      "cell_type": "code",
      "source": [
        "# 25. Write a code to check if the key \"city\" exists in the dictionary {'name': 'Alice', 'city': 'Paris'}.\n",
        "person = {'name': 'Alice', 'city': 'Paris'}\n",
        "print(\"city\" in person)\n"
      ],
      "metadata": {
        "id": "9h8mCcD9rXog"
      },
      "execution_count": null,
      "outputs": []
    },
    {
      "cell_type": "code",
      "source": [
        "# 26. Write a code to create a list, a tuple, and a dictionary, and print them all.\n",
        "my_list = [1, 2, 3]\n",
        "my_tuple = (4, 5, 6)\n",
        "my_dict = {\"a\": 1, \"b\": 2}\n",
        "print(my_list)\n",
        "print(my_tuple)\n",
        "print(my_dict)\n"
      ],
      "metadata": {
        "id": "HXI-Xl4MrZqp"
      },
      "execution_count": null,
      "outputs": []
    },
    {
      "cell_type": "code",
      "source": [
        "# 27. Write a code to create a list of 5 random numbers between 1 and 100, sort it in ascending order, and print the result.(replaced)\n",
        "import random\n",
        "numbers = random.sample(range(1, 101), 5)\n",
        "numbers.sort()\n",
        "print(numbers)\n"
      ],
      "metadata": {
        "id": "q7hPDnQ0rbcU"
      },
      "execution_count": null,
      "outputs": []
    },
    {
      "cell_type": "code",
      "source": [
        "# 28. Write a code to create a list with strings and print the element at the third index.\n",
        "words = [\"apple\", \"banana\", \"cherry\", \"date\", \"fig\"]\n",
        "print(words[3])\n"
      ],
      "metadata": {
        "id": "o6y-Eal1ream"
      },
      "execution_count": null,
      "outputs": []
    },
    {
      "cell_type": "code",
      "source": [
        "# 29. Write a code to combine two dictionaries into one and print the result.\n",
        "dict1 = {\"a\": 1, \"b\": 2}\n",
        "dict2 = {\"c\": 3, \"d\": 4}\n",
        "combined = {**dict1, **dict2}\n",
        "print(combined)\n"
      ],
      "metadata": {
        "id": "xBdH4qVtrgvv"
      },
      "execution_count": null,
      "outputs": []
    },
    {
      "cell_type": "code",
      "source": [
        "# 30. Write a code to convert a list of strings into a set.\n",
        "fruits = [\"apple\", \"banana\", \"cherry\", \"apple\"]\n",
        "fruit_set = set(fruits)\n",
        "print(fruit_set)\n"
      ],
      "metadata": {
        "id": "RtKF8Ee4rin5"
      },
      "execution_count": null,
      "outputs": []
    }
  ]
}